{
 "cells": [
  {
   "cell_type": "markdown",
   "id": "902df7fc-c7dc-4485-9bec-fa62e29e469b",
   "metadata": {},
   "source": [
    "# Data Science Tools and Ecosystem"
   ]
  },
  {
   "cell_type": "markdown",
   "id": "420e2872-13cc-4acd-abf4-43a63b5cf3ea",
   "metadata": {},
   "source": [
    "In this notebook, Data Science Tools and Ecosystem are summarized."
   ]
  },
  {
   "cell_type": "markdown",
   "id": "eec45cf4-9e3c-4fad-b80d-7668fb0a2193",
   "metadata": {},
   "source": [
    "Some of the popular languages that Data Scientists use are:\n",
    "1. Python\n",
    "2. R\n",
    "3. JavaScript"
   ]
  },
  {
   "cell_type": "markdown",
   "id": "a8758a4a-2c59-49e0-9407-456c795c62a9",
   "metadata": {},
   "source": [
    "**Objectives**\n",
    "- Popular R Libraries for Data Science\n",
    "- Community Data License Agreement\n",
    "- Scientifics Computing Libraries\n",
    "- Categories of Data Science Tools"
   ]
  },
  {
   "cell_type": "markdown",
   "id": "cf42a825-f16f-47ad-8ade-fdece747ebc6",
   "metadata": {},
   "source": [
    "Some of the commonly used libraries used by Data Scientists include:\n",
    "1. Numpy\n",
    "2. Pandas\n",
    "3. Matplotlib\n",
    "4. TensorFlow"
   ]
  },
  {
   "cell_type": "markdown",
   "id": "8415aedb-2c9f-452c-9879-13092d4ef048",
   "metadata": {},
   "source": [
    "| Data Science Tools |\n",
    "| -------- |\n",
    "| Jupyter Notebook |\n",
    "| RStudio |\n",
    "| Tableau |\n",
    "| Apache Hadoop |"
   ]
  },
  {
   "cell_type": "markdown",
   "id": "9b7409df-9467-48dc-8b00-2c6e6d67cd0a",
   "metadata": {},
   "source": [
    "### Below are a few examples of evaluating arithmetic expressions in Python."
   ]
  },
  {
   "cell_type": "code",
   "execution_count": 1,
   "id": "fbd229ea-293d-40b3-b69f-ad12eb95e291",
   "metadata": {},
   "outputs": [
    {
     "data": {
      "text/plain": [
       "17"
      ]
     },
     "execution_count": 1,
     "metadata": {},
     "output_type": "execute_result"
    }
   ],
   "source": [
    "# This a simple arithmetic expression to mutiply then add integers.\n",
    "(3*4)+5"
   ]
  },
  {
   "cell_type": "markdown",
   "id": "00b505d7-6acf-4a40-947c-42c9a0e250aa",
   "metadata": {},
   "source": [
    "This will convert 200 minutes to hours by diving by 60"
   ]
  },
  {
   "cell_type": "code",
   "execution_count": 5,
   "id": "d9a87419-7333-4398-8a67-29c76e17dc84",
   "metadata": {},
   "outputs": [
    {
     "name": "stdout",
     "output_type": "stream",
     "text": [
      "3.33\n"
     ]
    }
   ],
   "source": [
    "# This will convert 200 minutes to hours by diving by 60\n",
    "minutes = 200\n",
    "hours = minutes/60\n",
    "print(round(hours, 2))"
   ]
  },
  {
   "cell_type": "markdown",
   "id": "6203fa28-e607-482f-9fb1-a1991c90099e",
   "metadata": {},
   "source": [
    "## Author\n",
    "Andre"
   ]
  }
 ],
 "metadata": {
  "kernelspec": {
   "display_name": "Python",
   "language": "python",
   "name": "conda-env-python-py"
  },
  "language_info": {
   "codemirror_mode": {
    "name": "ipython",
    "version": 3
   },
   "file_extension": ".py",
   "mimetype": "text/x-python",
   "name": "python",
   "nbconvert_exporter": "python",
   "pygments_lexer": "ipython3",
   "version": "3.7.12"
  }
 },
 "nbformat": 4,
 "nbformat_minor": 5
}
